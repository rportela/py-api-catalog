{
 "cells": [
  {
   "cell_type": "markdown",
   "id": "21b80936",
   "metadata": {},
   "source": [
    "# Cvm Daily Funds Data"
   ]
  },
  {
   "cell_type": "code",
   "execution_count": 1,
   "id": "38d89907",
   "metadata": {},
   "outputs": [],
   "source": [
    "from catalog_api.infrastructure.CkanApi import CkanApi\n",
    "import pandas as pd\n",
    "from datetime import datetime\n",
    "\n",
    "from catalog_api.services.CatalogDataService import CatalogDataService\n",
    "\n",
    "catalog_data = CatalogDataService()\n",
    "portal = CkanApi(\"https://dados.cvm.gov.br\")\n",
    "organization = \"br_gov_cvm\"\n",
    "dataset = \"fi-doc-inf_diario\"\n",
    "table_name = \"inf_diario_fi\"\n",
    "fi_doc_inf_diario = portal.get_package(dataset)"
   ]
  },
  {
   "cell_type": "code",
   "execution_count": 2,
   "id": "e9650ce8",
   "metadata": {},
   "outputs": [
    {
     "name": "stdout",
     "output_type": "stream",
     "text": [
      "Invalid partition: meta_inf_diario_fi\n"
     ]
    }
   ],
   "source": [
    "from datetime import timezone\n",
    "\n",
    "\n",
    "def process_resource(resource):\n",
    "    url = resource.url\n",
    "    filename = url.split(\"/\")[-1]\n",
    "    filename_prefix = filename.split(\".\")[0]\n",
    "    partition_full = filename_prefix.split(\"_\")[-1]\n",
    "    year = partition_full[:4]\n",
    "    month = partition_full[4:6]\n",
    "    if not year.isnumeric() or not month.isnumeric():\n",
    "        print(f\"Invalid partition: {filename_prefix}\")\n",
    "        return\n",
    "    partitions = {\n",
    "        \"year\": year,\n",
    "        \"month\": month,\n",
    "    }\n",
    "    bucket_last_updated = catalog_data.get_parquet_last_updated(\n",
    "        organization, dataset, table_name, partitions\n",
    "    ) or datetime(2000, 1, 1)\n",
    "    resource_last_updated = datetime.fromisoformat(\n",
    "        resource.created or resource.last_modified\n",
    "    )\n",
    "    if bucket_last_updated.replace(\n",
    "        tzinfo=timezone.utc\n",
    "    ) >= resource_last_updated.replace(tzinfo=timezone.utc):\n",
    "        return\n",
    "    df = pd.read_csv(url, sep=\";\", encoding=\"latin1\", low_memory=False)\n",
    "    df[\"DT_COMPTC\"] = df[\"DT_COMPTC\"].apply(\n",
    "        lambda x: datetime.strptime(x, \"%Y-%m-%d\").date() if x else None\n",
    "    )\n",
    "    res = catalog_data.put_parquet_data(\n",
    "        df, organization, dataset, table_name, partitions\n",
    "    )\n",
    "    print(res)\n",
    "\n",
    "\n",
    "for resource in fi_doc_inf_diario.resources:  # type: ignore\n",
    "    process_resource(resource)"
   ]
  },
  {
   "cell_type": "markdown",
   "id": "c23c474a",
   "metadata": {},
   "source": [
    "## Query the data"
   ]
  },
  {
   "cell_type": "code",
   "execution_count": 3,
   "id": "2a377fb4",
   "metadata": {},
   "outputs": [
    {
     "ename": "AttributeError",
     "evalue": "'DuckDbParquet' object has no attribute 'register_parquet_table'",
     "output_type": "error",
     "traceback": [
      "\u001b[31m---------------------------------------------------------------------------\u001b[39m",
      "\u001b[31mAttributeError\u001b[39m                            Traceback (most recent call last)",
      "\u001b[36mCell\u001b[39m\u001b[36m \u001b[39m\u001b[32mIn[3]\u001b[39m\u001b[32m, line 2\u001b[39m\n\u001b[32m      1\u001b[39m db = catalog_data.get_duckdb(organization, dataset, table_name)\n\u001b[32m----> \u001b[39m\u001b[32m2\u001b[39m \u001b[43mdb\u001b[49m\u001b[43m.\u001b[49m\u001b[43mregister_parquet_table\u001b[49m(\u001b[33m\"\u001b[39m\u001b[33minf_diario_fi\u001b[39m\u001b[33m\"\u001b[39m)\n\u001b[32m      3\u001b[39m db.fetch_df(\u001b[33m\"\u001b[39m\u001b[33mSELECT * FROM inf_diario_fi LIMIT 10\u001b[39m\u001b[33m\"\u001b[39m)\n",
      "\u001b[31mAttributeError\u001b[39m: 'DuckDbParquet' object has no attribute 'register_parquet_table'"
     ]
    }
   ],
   "source": [
    "db = catalog_data.get_duckdb(organization, dataset, table_name)\n",
    "db.register_parquet_table(\"inf_diario_fi\")\n",
    "db.fetch_df(\"SELECT * FROM inf_diario_fi LIMIT 10\")"
   ]
  }
 ],
 "metadata": {
  "kernelspec": {
   "display_name": ".venv",
   "language": "python",
   "name": "python3"
  },
  "language_info": {
   "codemirror_mode": {
    "name": "ipython",
    "version": 3
   },
   "file_extension": ".py",
   "mimetype": "text/x-python",
   "name": "python",
   "nbconvert_exporter": "python",
   "pygments_lexer": "ipython3",
   "version": "3.12.3"
  }
 },
 "nbformat": 4,
 "nbformat_minor": 5
}
