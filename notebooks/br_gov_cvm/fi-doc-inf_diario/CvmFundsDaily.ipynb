{
 "cells": [
  {
   "cell_type": "markdown",
   "id": "21b80936",
   "metadata": {},
   "source": [
    "# Cvm Daily Funds Data"
   ]
  },
  {
   "cell_type": "code",
   "execution_count": 1,
   "id": "38d89907",
   "metadata": {},
   "outputs": [],
   "source": [
    "from catalog_api.infrastructure.CkanApi import CkanApi\n",
    "import pandas as pd\n",
    "from datetime import datetime\n",
    "\n",
    "from catalog_api.services.CatalogDataService import CatalogDataService\n",
    "\n",
    "catalog_data = CatalogDataService()\n",
    "portal = CkanApi(\"https://dados.cvm.gov.br\")\n",
    "organization = \"br_gov_cvm\"\n",
    "dataset = \"fi-doc-inf_diario\"\n",
    "table_name = \"inf_diario_fi\"\n",
    "fi_doc_inf_diario = portal.get_package(dataset)"
   ]
  },
  {
   "cell_type": "code",
   "execution_count": null,
   "id": "e9650ce8",
   "metadata": {},
   "outputs": [
    {
     "name": "stdout",
     "output_type": "stream",
     "text": [
      "Invalid partition: meta_inf_diario_fi\n",
      "{'ResponseMetadata': {'RequestId': 'TCT274HSHS9WCTBS', 'HostId': 'B1w2zPwfafheeo9vomPOdSyx5RCvM/aTYQYcDpJNREafWGZ+esDZt28TqlcfhgBkA3RmsqdqC+iEaDUW7F+v+YV7A33jYSJ0ZB71n0g0uXk=', 'HTTPStatusCode': 200, 'HTTPHeaders': {'x-amz-id-2': 'B1w2zPwfafheeo9vomPOdSyx5RCvM/aTYQYcDpJNREafWGZ+esDZt28TqlcfhgBkA3RmsqdqC+iEaDUW7F+v+YV7A33jYSJ0ZB71n0g0uXk=', 'x-amz-request-id': 'TCT274HSHS9WCTBS', 'date': 'Sat, 24 May 2025 03:39:43 GMT', 'x-amz-server-side-encryption': 'AES256', 'etag': '\"6fad2caf750d8cc412c0476c03b32bfb\"', 'x-amz-checksum-crc32': 'EW+ZoQ==', 'x-amz-checksum-type': 'FULL_OBJECT', 'content-length': '0', 'server': 'AmazonS3'}, 'RetryAttempts': 0}, 'ETag': '\"6fad2caf750d8cc412c0476c03b32bfb\"', 'ChecksumCRC32': 'EW+ZoQ==', 'ChecksumType': 'FULL_OBJECT', 'ServerSideEncryption': 'AES256'}\n"
     ]
    }
   ],
   "source": [
    "def process_resource(resource):\n",
    "    url = resource.url\n",
    "    filename = url.split(\"/\")[-1]\n",
    "    filename_prefix = filename.split(\".\")[0]\n",
    "    partition_full = filename_prefix.split(\"_\")[-1]\n",
    "    year = partition_full[:4]\n",
    "    month = partition_full[4:6]\n",
    "    if not year.isnumeric() or not month.isnumeric():\n",
    "        print(f\"Invalid partition: {filename_prefix}\")\n",
    "        return\n",
    "    partitions = {\n",
    "        \"year\": year,\n",
    "        \"month\": month,\n",
    "    }\n",
    "    bucket_last_updated = catalog_data.get_parquet_last_updated(\n",
    "        organization, dataset, table_name, partitions\n",
    "    ) or datetime(2000, 1, 1)\n",
    "    resource_last_updated = datetime.fromisoformat(\n",
    "        resource.created or resource.last_modified\n",
    "    )\n",
    "    if bucket_last_updated >= resource_last_updated:\n",
    "        return\n",
    "    df = pd.read_csv(url, sep=\";\", encoding=\"latin1\", low_memory=False)\n",
    "    df[\"DT_COMPTC\"] = df[\"DT_COMPTC\"].apply(\n",
    "        lambda x: datetime.strptime(x, \"%Y-%m-%d\").date() if x else None\n",
    "    )\n",
    "    res = catalog_data.put_parquet_data(df, organization, dataset, table_name, partitions)\n",
    "    print(res)\n",
    "\n",
    "for resource in fi_doc_inf_diario.resources: # type: ignore\n",
    "    process_resource(resource)"
   ]
  },
  {
   "cell_type": "markdown",
   "id": "c23c474a",
   "metadata": {},
   "source": [
    "## Query the data"
   ]
  },
  {
   "cell_type": "code",
   "execution_count": null,
   "id": "2a377fb4",
   "metadata": {},
   "outputs": [
    {
     "ename": "IOException",
     "evalue": "IO Error: Cannot open file \"/home/rportela/github/rportela/py-api-catalog/notebooks/catalog-data/br_gov_cvm/fi-doc-inf_diario/_duckdb\": No such file or directory",
     "output_type": "error",
     "traceback": [
      "\u001b[31m---------------------------------------------------------------------------\u001b[39m",
      "\u001b[31mIOException\u001b[39m                               Traceback (most recent call last)",
      "\u001b[36mCell\u001b[39m\u001b[36m \u001b[39m\u001b[32mIn[3]\u001b[39m\u001b[32m, line 4\u001b[39m\n\u001b[32m      1\u001b[39m \u001b[38;5;28;01mfrom\u001b[39;00m\u001b[38;5;250m \u001b[39m\u001b[34;01mcatalog_api\u001b[39;00m\u001b[34;01m.\u001b[39;00m\u001b[34;01minfrastructure\u001b[39;00m\u001b[34;01m.\u001b[39;00m\u001b[34;01mDuckDbParquet\u001b[39;00m\u001b[38;5;250m \u001b[39m\u001b[38;5;28;01mimport\u001b[39;00m DuckDbParquet\n\u001b[32m----> \u001b[39m\u001b[32m4\u001b[39m db = \u001b[43mDuckDbParquet\u001b[49m\u001b[43m(\u001b[49m\n\u001b[32m      5\u001b[39m \u001b[43m    \u001b[49m\u001b[43mbucket\u001b[49m\u001b[43m,\u001b[49m\n\u001b[32m      6\u001b[39m \u001b[43m    \u001b[49m\u001b[33;43m\"\u001b[39;49m\u001b[33;43mcatalog-data/br_gov_cvm/fi-doc-inf_diario\u001b[39;49m\u001b[33;43m\"\u001b[39;49m\u001b[43m,\u001b[49m\n\u001b[32m      7\u001b[39m \u001b[43m    \u001b[49m\u001b[33;43m\"\u001b[39;49m\u001b[33;43mcatalog-data/br_gov_cvm/fi-doc-inf_diario/_duckdb\u001b[39;49m\u001b[33;43m\"\u001b[39;49m\u001b[43m,\u001b[49m\n\u001b[32m      8\u001b[39m \u001b[43m)\u001b[49m\n\u001b[32m      9\u001b[39m db.query(\u001b[33m\"\u001b[39m\u001b[33mSELECT * FROM \u001b[39m\u001b[33m'\u001b[39m\u001b[33mdata.parquet\u001b[39m\u001b[33m'\u001b[39m\u001b[33m WHERE DT_COMPTC IS NOT NULL LIMIT 10\u001b[39m\u001b[33m\"\u001b[39m)\n",
      "\u001b[36mFile \u001b[39m\u001b[32m~/github/rportela/py-api-catalog/catalog_api/infrastructure/DuckDbParquet.py:63\u001b[39m, in \u001b[36mDuckDbParquet.__init__\u001b[39m\u001b[34m(self, s3_bucket, parquet_prefix, duckdb_path, duckdb_extensions, httpfs_headers)\u001b[39m\n\u001b[32m     61\u001b[39m \u001b[38;5;28mself\u001b[39m.parquet_prefix = parquet_prefix\n\u001b[32m     62\u001b[39m \u001b[38;5;28mself\u001b[39m.duckdb_path = duckdb_path\n\u001b[32m---> \u001b[39m\u001b[32m63\u001b[39m \u001b[38;5;28mself\u001b[39m._con = \u001b[43mduckdb\u001b[49m\u001b[43m.\u001b[49m\u001b[43mconnect\u001b[49m\u001b[43m(\u001b[49m\u001b[43mduckdb_path\u001b[49m\u001b[43m)\u001b[49m\n\u001b[32m     64\u001b[39m \u001b[38;5;28mself\u001b[39m._configure(duckdb_extensions, httpfs_headers)\n\u001b[32m     65\u001b[39m \u001b[38;5;28mself\u001b[39m._attach_parquet_files()\n",
      "\u001b[31mIOException\u001b[39m: IO Error: Cannot open file \"/home/rportela/github/rportela/py-api-catalog/notebooks/catalog-data/br_gov_cvm/fi-doc-inf_diario/_duckdb\": No such file or directory"
     ]
    }
   ],
   "source": [
    "from catalog_api.infrastructure.DuckDbParquet import DuckDbParquet\n",
    "\n",
    "\n",
    "db = DuckDbParquet(\n",
    "    bucket,\n",
    "    \"catalog-data/br_gov_cvm/fi-doc-inf_diario\",\n",
    "    \"catalog-data/br_gov_cvm/fi-doc-inf_diario/_duckdb\",\n",
    ")\n",
    "db.query(\"SELECT * FROM 'data.parquet' WHERE DT_COMPTC IS NOT NULL LIMIT 10\")"
   ]
  }
 ],
 "metadata": {
  "kernelspec": {
   "display_name": ".venv",
   "language": "python",
   "name": "python3"
  },
  "language_info": {
   "codemirror_mode": {
    "name": "ipython",
    "version": 3
   },
   "file_extension": ".py",
   "mimetype": "text/x-python",
   "name": "python",
   "nbconvert_exporter": "python",
   "pygments_lexer": "ipython3",
   "version": "3.12.3"
  }
 },
 "nbformat": 4,
 "nbformat_minor": 5
}
