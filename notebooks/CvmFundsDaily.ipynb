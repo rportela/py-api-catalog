{
 "cells": [
  {
   "cell_type": "markdown",
   "id": "21b80936",
   "metadata": {},
   "source": [
    "# Cvm Daily Funds Data"
   ]
  },
  {
   "cell_type": "code",
   "execution_count": 1,
   "id": "38d89907",
   "metadata": {},
   "outputs": [],
   "source": [
    "from catalog_api.infrastructure.CkanApi import CkanApi\n",
    "import pandas as pd\n",
    "from datetime import datetime, date\n",
    "from io import BytesIO\n",
    "from catalog_api.infrastructure.S3Bucket import S3Bucket\n",
    "\n",
    "bucket = S3Bucket()\n",
    "portal = CkanApi(\"https://dados.cvm.gov.br\")\n",
    "\n",
    "fi_doc_inf_diario = portal.get_package(\"fi-doc-inf_diario\")\n"
   ]
  },
  {
   "cell_type": "code",
   "execution_count": null,
   "id": "e9650ce8",
   "metadata": {},
   "outputs": [
    {
     "name": "stdout",
     "output_type": "stream",
     "text": [
      "Invalid partition: meta_inf_diario_fi\n"
     ]
    },
    {
     "ename": "TypeError",
     "evalue": "can't compare offset-naive and offset-aware datetimes",
     "output_type": "error",
     "traceback": [
      "\u001b[31m---------------------------------------------------------------------------\u001b[39m",
      "\u001b[31mTypeError\u001b[39m                                 Traceback (most recent call last)",
      "\u001b[36mCell\u001b[39m\u001b[36m \u001b[39m\u001b[32mIn[3]\u001b[39m\u001b[32m, line 34\u001b[39m\n\u001b[32m     30\u001b[39m     \u001b[38;5;28mprint\u001b[39m(\u001b[33mf\u001b[39m\u001b[33m\"\u001b[39m\u001b[33mUploaded \u001b[39m\u001b[38;5;132;01m{\u001b[39;00mbucket_file\u001b[38;5;132;01m}\u001b[39;00m\u001b[33m to S3\u001b[39m\u001b[33m\"\u001b[39m)\n\u001b[32m     33\u001b[39m \u001b[38;5;28;01mfor\u001b[39;00m resource \u001b[38;5;129;01min\u001b[39;00m fi_doc_inf_diario.resources:\n\u001b[32m---> \u001b[39m\u001b[32m34\u001b[39m     \u001b[43mprocess_resource\u001b[49m\u001b[43m(\u001b[49m\u001b[43mresource\u001b[49m\u001b[43m)\u001b[49m\n",
      "\u001b[36mCell\u001b[39m\u001b[36m \u001b[39m\u001b[32mIn[3]\u001b[39m\u001b[32m, line 20\u001b[39m, in \u001b[36mprocess_resource\u001b[39m\u001b[34m(resource)\u001b[39m\n\u001b[32m     14\u001b[39m bucket_last_updated = bucket.get_last_updated_date_of_file(bucket_file) \u001b[38;5;129;01mor\u001b[39;00m datetime(\n\u001b[32m     15\u001b[39m     \u001b[32m2000\u001b[39m, \u001b[32m1\u001b[39m, \u001b[32m1\u001b[39m\n\u001b[32m     16\u001b[39m )\n\u001b[32m     17\u001b[39m resource_last_updated = datetime.fromisoformat(\n\u001b[32m     18\u001b[39m     resource.created \u001b[38;5;129;01mor\u001b[39;00m resource.last_modified\n\u001b[32m     19\u001b[39m )\n\u001b[32m---> \u001b[39m\u001b[32m20\u001b[39m \u001b[38;5;28;01mif\u001b[39;00m \u001b[43mbucket_last_updated\u001b[49m\u001b[43m \u001b[49m\u001b[43m>\u001b[49m\u001b[43m=\u001b[49m\u001b[43m \u001b[49m\u001b[43mresource_last_updated\u001b[49m:\n\u001b[32m     21\u001b[39m     \u001b[38;5;28;01mreturn\u001b[39;00m\n\u001b[32m     22\u001b[39m df = pd.read_csv(url, sep=\u001b[33m\"\u001b[39m\u001b[33m;\u001b[39m\u001b[33m\"\u001b[39m, encoding=\u001b[33m\"\u001b[39m\u001b[33mlatin1\u001b[39m\u001b[33m\"\u001b[39m, low_memory=\u001b[38;5;28;01mFalse\u001b[39;00m)\n",
      "\u001b[31mTypeError\u001b[39m: can't compare offset-naive and offset-aware datetimes"
     ]
    }
   ],
   "source": [
    "def process_resource(resource):\n",
    "    url = resource.url\n",
    "    filename = url.split(\"/\")[-1]\n",
    "    filename_prefix = filename.split(\".\")[0]\n",
    "    partition_full = filename_prefix.split(\"_\")[-1]\n",
    "    year = partition_full[:4]\n",
    "    month = partition_full[4:6]\n",
    "    if not year.isnumeric() or not month.isnumeric():\n",
    "        print(f\"Invalid partition: {filename_prefix}\")\n",
    "        return\n",
    "    bucket_file = (\n",
    "        f\"catalog-data/br_gov_cvm/fi-doc-inf_diario/{year}/{month}/data.parquet\"\n",
    "    )\n",
    "    bucket_last_updated = bucket.get_last_updated_date_of_file(bucket_file) or datetime(\n",
    "        2000, 1, 1\n",
    "    )\n",
    "    bucket_last_updated = bucket_last_updated.isoformat()\n",
    "    resource_last_updated = datetime.fromisoformat(\n",
    "        resource.created or resource.last_modified\n",
    "    ).isoformat()\n",
    "    if bucket_last_updated >= resource_last_updated:\n",
    "        return\n",
    "    df = pd.read_csv(url, sep=\";\", encoding=\"latin1\", low_memory=False)\n",
    "    df[\"DT_COMPTC\"] = df[\"DT_COMPTC\"].apply(\n",
    "        lambda x: datetime.strptime(x, \"%Y-%m-%d\").date() if x else None\n",
    "    )\n",
    "    parquet_bytes = BytesIO()\n",
    "    df.to_parquet(parquet_bytes, index=False)\n",
    "    parquet_bytes.seek(0)\n",
    "    bucket.put_bytes(bucket_file, parquet_bytes.getvalue())\n",
    "    print(f\"Uploaded {bucket_file} to S3\")\n",
    "\n",
    "\n",
    "for resource in fi_doc_inf_diario.resources:\n",
    "    process_resource(resource)"
   ]
  }
 ],
 "metadata": {
  "kernelspec": {
   "display_name": ".venv",
   "language": "python",
   "name": "python3"
  },
  "language_info": {
   "codemirror_mode": {
    "name": "ipython",
    "version": 3
   },
   "file_extension": ".py",
   "mimetype": "text/x-python",
   "name": "python",
   "nbconvert_exporter": "python",
   "pygments_lexer": "ipython3",
   "version": "3.12.3"
  }
 },
 "nbformat": 4,
 "nbformat_minor": 5
}
